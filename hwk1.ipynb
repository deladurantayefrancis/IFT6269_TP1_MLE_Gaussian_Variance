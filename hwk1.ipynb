{
 "cells": [
  {
   "cell_type": "markdown",
   "metadata": {},
   "source": [
    "# Homework 1 (IFT6269)\n",
    "\n",
    "Author: Francis de Ladurantaye\n",
    "<br>\n",
    "Date: 2018/09/23"
   ]
  },
  {
   "cell_type": "markdown",
   "metadata": {},
   "source": [
    "## Question 4"
   ]
  },
  {
   "cell_type": "code",
   "execution_count": 5,
   "metadata": {},
   "outputs": [],
   "source": [
    "import matplotlib.pyplot as plt\n",
    "import numpy as np\n",
    "\n",
    "μ = 0\n",
    "σ2 = 1\n",
    "σ = σ2 ** (1/2)\n",
    "\n",
    "n = 5\n",
    "N = 10000"
   ]
  },
  {
   "cell_type": "markdown",
   "metadata": {},
   "source": [
    "### a) Draw n = 5 samples from the standard Gaussian distribution, N(0, 1)."
   ]
  },
  {
   "cell_type": "code",
   "execution_count": 6,
   "metadata": {},
   "outputs": [
    {
     "name": "stdout",
     "output_type": "stream",
     "text": [
      "samples = [ 0.73534346  1.30949003  1.15062698 -0.96402838  0.95133464]\n"
     ]
    }
   ],
   "source": [
    "samples = np.random.normal(μ, σ, n)\n",
    "print('samples =', samples)"
   ]
  },
  {
   "cell_type": "markdown",
   "metadata": {},
   "source": [
    "### b) Using the samples as data, compute the ML estimate \\mu_hat for the mean and \\sigma2_hat for the variance of the Gaussian, as given in Question 3(d)."
   ]
  },
  {
   "cell_type": "code",
   "execution_count": 7,
   "metadata": {},
   "outputs": [
    {
     "name": "stdout",
     "output_type": "stream",
     "text": [
      "μ_hat = 0.6365533491770324\n",
      "σ2_hat = 0.6775648196015055\n"
     ]
    }
   ],
   "source": [
    "μ_hat = np.sum(samples) / n\n",
    "print('μ_hat =', μ_hat)\n",
    "\n",
    "σ2_hat = np.sum((samples - μ_hat) ** 2) / n\n",
    "print('σ2_hat =', σ2_hat)"
   ]
  },
  {
   "cell_type": "markdown",
   "metadata": {},
   "source": [
    "### c) Repeat steps (a) and (b) 10,000 times. Plot a histogram of the 10,000 estimates of the Gaussian variance parameter to show its empirical distribution. Do you recognize its shape?"
   ]
  },
  {
   "cell_type": "code",
   "execution_count": 8,
   "metadata": {},
   "outputs": [
    {
     "name": "stdout",
     "output_type": "stream",
     "text": [
      "μ_hats = [ 0.05769501  0.53140761 -0.52748655 ...  0.06522812  0.55377452\n",
      "  0.88545183]\n",
      "σ2_hats = [0.15463577 1.00970219 0.68090472 ... 0.73421012 0.43542796 0.10641118]\n"
     ]
    },
    {
     "data": {
      "image/png": "[encoded data removed]",
      "text/plain": [
       "<Figure size 432x288 with 1 Axes>"
      ]
     },
     "metadata": {
      "needs_background": "light"
     },
     "output_type": "display_data"
    }
   ],
   "source": [
    "samples = np.random.normal(μ, σ, (n, N))\n",
    "\n",
    "μ_hats = np.sum(samples, axis=0) / n\n",
    "print('μ_hats =', μ_hats)\n",
    "\n",
    "σ2_hats = np.sum((samples - μ_hats) ** 2, axis=0) / n\n",
    "print('σ2_hats =', σ2_hats)\n",
    "\n",
    "plt.hist(σ2_hats, bins = 50)\n",
    "plt.title('Counts per value of σ²')\n",
    "plt.show()"
   ]
  },
  {
   "cell_type": "markdown",
   "metadata": {},
   "source": [
    "This plot represents a Gamma distribution."
   ]
  },
  {
   "cell_type": "markdown",
   "metadata": {},
   "source": [
    "### d) Use these 10,000 repeated trials to numerically estimate the (frequentist) bias and variance of the ML estimate \\sigma2_hat of the Gaussian variance parameter."
   ]
  },
  {
   "cell_type": "code",
   "execution_count": 9,
   "metadata": {},
   "outputs": [
    {
     "name": "stdout",
     "output_type": "stream",
     "text": [
      "Empirical bias and variance:\n",
      "\n",
      "bias = -0.20169761075894688\n",
      "variance = 0.3243395827122887\n"
     ]
    }
   ],
   "source": [
    "print('Empirical bias and variance:\\n')\n",
    "\n",
    "σ2_hat_empirical_expectancy = np.sum(σ2_hats) / N\n",
    "σ2_hat_empirical_bias = σ2_hat_empirical_expectancy - σ2\n",
    "print('bias =', σ2_hat_empirical_bias)\n",
    "\n",
    "σ2_hat_empirical_variance = np.sum((σ2_hats - σ2_hat_empirical_expectancy) ** 2) / N\n",
    "print('variance =', σ2_hat_empirical_variance)"
   ]
  },
  {
   "cell_type": "markdown",
   "metadata": {},
   "source": [
    "### e) Compare the results of (d) with the theoretical (frequentist) bias and variance that you can compute from the formula you derived in Question 3(d)."
   ]
  },
  {
   "cell_type": "code",
   "execution_count": 10,
   "metadata": {},
   "outputs": [
    {
     "name": "stdout",
     "output_type": "stream",
     "text": [
      "Theoretical bias and variance:\n",
      "\n",
      "bias = -0.19999999999999996\n",
      "variance = 0.32\n"
     ]
    }
   ],
   "source": [
    "print('Theoretical bias and variance:\\n')\n",
    "\n",
    "σ2_hat_theoretical_expectancy = ((n - 1) / n) * σ2\n",
    "σ2_hat_theoretical_bias = σ2_hat_theoretical_expectancy - σ2\n",
    "print('bias =', σ2_hat_theoretical_bias)\n",
    "\n",
    "σ2_hat_theoretical_variance = 2 * (n - 1) * (σ2 ** 2) / n ** 2\n",
    "print('variance =', σ2_hat_theoretical_variance)"
   ]
  },
  {
   "cell_type": "markdown",
   "metadata": {},
   "source": [
    "Finally, we calculate the ratios between empirical and theoretical values for comparison (should be very close to 1):"
   ]
  },
  {
   "cell_type": "code",
   "execution_count": 11,
   "metadata": {},
   "outputs": [
    {
     "name": "stdout",
     "output_type": "stream",
     "text": [
      "Ratios of empirical/theoretical values:\n",
      "\n",
      "bias = 1.0084880537947347\n",
      "variance = 1.013561195975902\n"
     ]
    }
   ],
   "source": [
    "print('Ratios of empirical/theoretical values:\\n')\n",
    "\n",
    "print('bias =', σ2_hat_empirical_bias / σ2_hat_theoretical_bias)\n",
    "print('variance =', σ2_hat_empirical_variance / σ2_hat_theoretical_variance)"
   ]
  },
  {
   "cell_type": "code",
   "execution_count": null,
   "metadata": {},
   "outputs": [],
   "source": []
  }
 ],
 "metadata": {
  "kernelspec": {
   "display_name": "Python 3",
   "language": "python",
   "name": "python3"
  },
  "language_info": {
   "codemirror_mode": {
    "name": "ipython",
    "version": 3
   },
   "file_extension": ".py",
   "mimetype": "text/x-python",
   "name": "python",
   "nbconvert_exporter": "python",
   "pygments_lexer": "ipython3",
   "version": "3.5.2"
  }
 },
 "nbformat": 4,
 "nbformat_minor": 2
}
